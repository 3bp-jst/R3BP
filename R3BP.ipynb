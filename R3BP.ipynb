{
 "cells": [
  {
   "cell_type": "code",
   "execution_count": 1,
   "metadata": {},
   "outputs": [
    {
     "name": "stderr",
     "output_type": "stream",
     "text": [
      "/opt/anaconda3/lib/python3.8/site-packages/chex/_src/pytypes.py:37: FutureWarning: jax.tree_structure is deprecated, and will be removed in a future release. Use jax.tree_util.tree_structure instead.\n",
      "  PyTreeDef = type(jax.tree_structure(None))\n"
     ]
    }
   ],
   "source": [
    "import jax.numpy as jnp\n",
    "from jax import random, vmap, grad, jacfwd, jit, value_and_grad\n",
    "from jax.lax import fori_loop\n",
    "import matplotlib.pyplot as plt\n",
    "from jax.config import config; config.update(\"jax_enable_x64\", True)\n",
    "import optax\n",
    "\n",
    "from tqdm.auto import tqdm"
   ]
  },
  {
   "cell_type": "code",
   "execution_count": 2,
   "metadata": {},
   "outputs": [],
   "source": [
    "M = 20 # maximum Fourier coefficients\n",
    "T = 100.0 # period\n",
    "key = random.PRNGKey(0)"
   ]
  },
  {
   "cell_type": "code",
   "execution_count": 3,
   "metadata": {},
   "outputs": [],
   "source": [
    "dt = 0.001\n",
    "\n",
    "def radius(x):\n",
    "    return jnp.sqrt((x*x).sum())\n",
    "\n",
    "def q_t(t, coeffs):\n",
    "    x = jnp.dot(jnp.cos(2.0*jnp.pi*(2*jnp.arange(M))/T * t), coeffs[:, 0])+ jnp.dot(jnp.sin(2.0*jnp.pi*(2*jnp.arange(M)+1)/T * t), coeffs[:, 1])\n",
    "    y = jnp.dot(jnp.cos(2.0*jnp.pi*(2*jnp.arange(M))/T * t), coeffs[:, 3])+ jnp.dot(jnp.sin(2.0*jnp.pi*(2*jnp.arange(M)+1)/T * t), coeffs[:, 4])\n",
    "    return jnp.array([x, y])\n",
    "\n",
    "qdot_t = jacfwd(q_t, argnums=(0))\n",
    "\n",
    "def lagrangian(state, velocity, mu):\n",
    "    a1 = jnp.array([-mu, 0.0])\n",
    "    a2 = jnp.array([1.0-mu, 0.0])\n",
    "    kinetic = 0.5 * (velocity * velocity).sum()\n",
    "    coriolis= velocity[1] * state[2]-velocity[2] * state[1]\n",
    "    potential = (1.0-mu)/radius(state-a1) + mu/radius(state-a2)+0.5 * (state * state).sum()\n",
    "    return kinetic + coriolis+potential\n",
    "\n",
    "def action(coeffs, mu):\n",
    "    ts = jnp.arange(0, T/4, dt)\n",
    "    states = vmap(lambda t: q_t(t, coeffs))(ts)\n",
    "    velocities = vmap(lambda t: qdot_t(t, coeffs))(ts)\n",
    "    lags = vmap(lagrangian, in_axes=(0, 0, None))(states, velocities, mu)\n",
    "    return lags.mean() * dt\n",
    "\n",
    "grad_action = grad(action, argnums=0)\n",
    "\n",
    "def fit(optimizer, init_coeffs, steps, mu):\n",
    "    opt_state = optimizer.init(init_coeffs)\n",
    "\n",
    "    @jit\n",
    "    def updata_fn(i, val):\n",
    "        params, opt_state, losses = val\n",
    "        loss, grad = value_and_grad(action, argnums=0)(params, mu)\n",
    "        updates, opt_state = optimizer.update(grad, opt_state, params)\n",
    "        params = optax.apply_updates(params, updates)\n",
    "        losses = losses.at[i].set(loss)\n",
    "        return [params, opt_state, losses]\n",
    "\n",
    "    losses = jnp.zeros(steps)\n",
    "    n_critical = len(init_coeffs)\n",
    "    critical_vals = jnp.zeros((steps, n_critical))\n",
    "    init_val = [init_coeffs, opt_state, losses]\n",
    "\n",
    "    params, _, losses = fori_loop(0, steps, updata_fn, init_val)\n",
    "    return params, losses"
   ]
  },
  {
   "cell_type": "code",
   "execution_count": null,
   "metadata": {},
   "outputs": [
    {
     "data": {
      "application/vnd.jupyter.widget-view+json": {
       "model_id": "28e6b498828b427a81083db94f5a89b1",
       "version_major": 2,
       "version_minor": 0
      },
      "text/plain": [
       "HBox(children=(HTML(value=''), FloatProgress(value=0.0, max=8.0), HTML(value='')))"
      ]
     },
     "metadata": {},
     "output_type": "display_data"
    }
   ],
   "source": [
    "init_coeffs = random.uniform(key, shape=(M, 2))/M\n",
    "steps = 10**4\n",
    "adam = optax.adam(learning_rate=10**-3)\n",
    "\n",
    "mus = jnp.arange(0.1, 0.5, 0.05)\n",
    "res = []\n",
    "\n",
    "for mu in tqdm(mus):\n",
    "    res.append(fit(adam, init_coeffs, steps, mu))"
   ]
  },
  {
   "cell_type": "code",
   "execution_count": null,
   "metadata": {},
   "outputs": [],
   "source": [
    "plt.figure(figsize=[8,6])\n",
    "ts = jnp.arange(0, T, 0.1*dt)\n",
    "for i in range(len(mus)):\n",
    "    coeffs = res[i][0]\n",
    "    orbits = vmap(q_t, in_axes=(0, None))(ts, coeffs)\n",
    "    plt.plot(orbits[:, 0], orbits[:, 1], label=f\"mu={mus[i]:.3f}\")\n",
    "plt.legend()"
   ]
  },
  {
   "cell_type": "raw",
   "metadata": {},
   "source": []
  },
  {
   "cell_type": "code",
   "execution_count": null,
   "metadata": {},
   "outputs": [],
   "source": []
  },
  {
   "cell_type": "code",
   "execution_count": null,
   "metadata": {},
   "outputs": [],
   "source": []
  },
  {
   "cell_type": "code",
   "execution_count": null,
   "metadata": {},
   "outputs": [],
   "source": []
  },
  {
   "cell_type": "code",
   "execution_count": null,
   "metadata": {},
   "outputs": [],
   "source": []
  },
  {
   "cell_type": "code",
   "execution_count": null,
   "metadata": {},
   "outputs": [],
   "source": []
  },
  {
   "cell_type": "code",
   "execution_count": null,
   "metadata": {},
   "outputs": [],
   "source": []
  }
 ],
 "metadata": {
  "kernelspec": {
   "display_name": "Python 3",
   "language": "python",
   "name": "python3"
  },
  "language_info": {
   "codemirror_mode": {
    "name": "ipython",
    "version": 3
   },
   "file_extension": ".py",
   "mimetype": "text/x-python",
   "name": "python",
   "nbconvert_exporter": "python",
   "pygments_lexer": "ipython3",
   "version": "3.8.5"
  }
 },
 "nbformat": 4,
 "nbformat_minor": 4
}
